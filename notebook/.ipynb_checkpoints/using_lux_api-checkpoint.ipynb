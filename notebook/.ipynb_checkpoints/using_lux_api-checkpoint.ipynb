{
 "cells": [
  {
   "cell_type": "markdown",
   "metadata": {},
   "source": [
    "# Introduction to LUX "
   ]
  },
  {
   "cell_type": "code",
   "execution_count": 6,
   "metadata": {
    "collapsed": true
   },
   "outputs": [
    {
     "name": "stdout",
     "output_type": "stream",
     "text": [
      "Collecting lux-api\n",
      "\u001b[?25l  Downloading https://files.pythonhosted.org/packages/0e/64/671efbcf6746a9aa48f9b67ed8a5d033f734e122741b7019dbbc6984a06a/lux-api-0.2.1.1.tar.gz (77kB)\n",
      "\u001b[K     |████████████████████████████████| 81kB 1.7MB/s eta 0:00:011\n",
      "\u001b[?25hRequirement already satisfied: scipy>=1.3.3 in /Applications/Conda/anaconda3/lib/python3.7/site-packages (from lux-api) (1.4.1)\n",
      "Collecting altair>=4.0.0 (from lux-api)\n",
      "\u001b[?25l  Downloading https://files.pythonhosted.org/packages/01/55/0bb2226e34f21fa549c3f4557b4f154a5632f61132a969da17c95ca8eab9/altair-4.1.0-py3-none-any.whl (727kB)\n",
      "\u001b[K     |████████████████████████████████| 737kB 6.9MB/s eta 0:00:01\n",
      "\u001b[?25hCollecting pandas>=1.1.0 (from lux-api)\n",
      "\u001b[?25l  Downloading https://files.pythonhosted.org/packages/67/90/a95cef3d819173b7dfdb8bf52b99409584a22bc73179801f6fd946e38f5b/pandas-1.1.4-cp37-cp37m-macosx_10_9_x86_64.whl (9.9MB)\n",
      "\u001b[K     |████████████████████████████████| 10.0MB 11.4MB/s ta 0:00:01\n",
      "\u001b[?25hCollecting scikit-learn>=0.22 (from lux-api)\n",
      "\u001b[?25l  Downloading https://files.pythonhosted.org/packages/8f/e4/d5d59e76f274c7bf82707bb45cda9b2f1ef2874e66f80d53a91bca17374c/scikit_learn-0.23.2-cp37-cp37m-macosx_10_9_x86_64.whl (7.2MB)\n",
      "\u001b[K     |████████████████████████████████| 7.2MB 17.3MB/s eta 0:00:01\n",
      "\u001b[?25hCollecting lux-widget>=0.1.1 (from lux-api)\n",
      "\u001b[?25l  Downloading https://files.pythonhosted.org/packages/3e/94/ac2ab4f1a28496c3aacdb52ba13d7df2ad7f51af9138c4cc076815cbb618/lux-widget-0.1.1.tar.gz (1.9MB)\n",
      "\u001b[K     |████████████████████████████████| 1.9MB 20.9MB/s eta 0:00:01\n",
      "\u001b[?25hRequirement already satisfied: numpy>=1.13.3 in /Applications/Conda/anaconda3/lib/python3.7/site-packages (from scipy>=1.3.3->lux-api) (1.17.2)\n",
      "Requirement already satisfied: jsonschema in /Applications/Conda/anaconda3/lib/python3.7/site-packages (from altair>=4.0.0->lux-api) (3.0.2)\n",
      "Requirement already satisfied: toolz in /Applications/Conda/anaconda3/lib/python3.7/site-packages (from altair>=4.0.0->lux-api) (0.10.0)\n",
      "Requirement already satisfied: entrypoints in /Applications/Conda/anaconda3/lib/python3.7/site-packages (from altair>=4.0.0->lux-api) (0.3)\n",
      "Requirement already satisfied: jinja2 in /Applications/Conda/anaconda3/lib/python3.7/site-packages (from altair>=4.0.0->lux-api) (2.10.3)\n",
      "Requirement already satisfied: python-dateutil>=2.7.3 in /Applications/Conda/anaconda3/lib/python3.7/site-packages (from pandas>=1.1.0->lux-api) (2.8.0)\n",
      "Requirement already satisfied: pytz>=2017.2 in /Applications/Conda/anaconda3/lib/python3.7/site-packages (from pandas>=1.1.0->lux-api) (2019.3)\n",
      "Requirement already satisfied: joblib>=0.11 in /Applications/Conda/anaconda3/lib/python3.7/site-packages (from scikit-learn>=0.22->lux-api) (0.13.2)\n",
      "Collecting threadpoolctl>=2.0.0 (from scikit-learn>=0.22->lux-api)\n",
      "  Downloading https://files.pythonhosted.org/packages/f7/12/ec3f2e203afa394a149911729357aa48affc59c20e2c1c8297a60f33f133/threadpoolctl-2.1.0-py3-none-any.whl\n",
      "Requirement already satisfied: jupyter in /Applications/Conda/anaconda3/lib/python3.7/site-packages (from lux-widget>=0.1.1->lux-api) (1.0.0)\n",
      "Requirement already satisfied: notebook>=4.0.0 in /Applications/Conda/anaconda3/lib/python3.7/site-packages (from lux-widget>=0.1.1->lux-api) (6.0.1)\n",
      "Requirement already satisfied: ipywidgets>=7.0.0 in /Applications/Conda/anaconda3/lib/python3.7/site-packages (from lux-widget>=0.1.1->lux-api) (7.5.1)\n",
      "Requirement already satisfied: pyrsistent>=0.14.0 in /Applications/Conda/anaconda3/lib/python3.7/site-packages (from jsonschema->altair>=4.0.0->lux-api) (0.15.4)\n",
      "Requirement already satisfied: setuptools in /Applications/Conda/anaconda3/lib/python3.7/site-packages (from jsonschema->altair>=4.0.0->lux-api) (41.4.0)\n",
      "Requirement already satisfied: attrs>=17.4.0 in /Applications/Conda/anaconda3/lib/python3.7/site-packages (from jsonschema->altair>=4.0.0->lux-api) (19.2.0)\n",
      "Requirement already satisfied: six>=1.11.0 in /Applications/Conda/anaconda3/lib/python3.7/site-packages (from jsonschema->altair>=4.0.0->lux-api) (1.12.0)\n",
      "Requirement already satisfied: MarkupSafe>=0.23 in /Applications/Conda/anaconda3/lib/python3.7/site-packages (from jinja2->altair>=4.0.0->lux-api) (1.1.1)\n",
      "Requirement already satisfied: jupyter-console in /Applications/Conda/anaconda3/lib/python3.7/site-packages (from jupyter->lux-widget>=0.1.1->lux-api) (6.0.0)\n",
      "Requirement already satisfied: qtconsole in /Applications/Conda/anaconda3/lib/python3.7/site-packages (from jupyter->lux-widget>=0.1.1->lux-api) (4.5.5)\n",
      "Requirement already satisfied: ipykernel in /Applications/Conda/anaconda3/lib/python3.7/site-packages (from jupyter->lux-widget>=0.1.1->lux-api) (5.1.2)\n",
      "Requirement already satisfied: nbconvert in /Applications/Conda/anaconda3/lib/python3.7/site-packages (from jupyter->lux-widget>=0.1.1->lux-api) (5.6.0)\n",
      "Requirement already satisfied: traitlets>=4.2.1 in /Applications/Conda/anaconda3/lib/python3.7/site-packages (from notebook>=4.0.0->lux-widget>=0.1.1->lux-api) (4.3.3)\n",
      "Requirement already satisfied: prometheus-client in /Applications/Conda/anaconda3/lib/python3.7/site-packages (from notebook>=4.0.0->lux-widget>=0.1.1->lux-api) (0.7.1)\n",
      "Requirement already satisfied: Send2Trash in /Applications/Conda/anaconda3/lib/python3.7/site-packages (from notebook>=4.0.0->lux-widget>=0.1.1->lux-api) (1.5.0)\n",
      "Requirement already satisfied: jupyter-client>=5.3.1 in /Applications/Conda/anaconda3/lib/python3.7/site-packages (from notebook>=4.0.0->lux-widget>=0.1.1->lux-api) (5.3.3)\n",
      "Requirement already satisfied: terminado>=0.8.1 in /Applications/Conda/anaconda3/lib/python3.7/site-packages (from notebook>=4.0.0->lux-widget>=0.1.1->lux-api) (0.8.2)\n",
      "Requirement already satisfied: nbformat in /Applications/Conda/anaconda3/lib/python3.7/site-packages (from notebook>=4.0.0->lux-widget>=0.1.1->lux-api) (4.4.0)\n",
      "Requirement already satisfied: tornado>=5.0 in /Applications/Conda/anaconda3/lib/python3.7/site-packages (from notebook>=4.0.0->lux-widget>=0.1.1->lux-api) (6.0.3)\n",
      "Requirement already satisfied: pyzmq>=17 in /Applications/Conda/anaconda3/lib/python3.7/site-packages (from notebook>=4.0.0->lux-widget>=0.1.1->lux-api) (18.1.0)\n",
      "Requirement already satisfied: ipython-genutils in /Applications/Conda/anaconda3/lib/python3.7/site-packages (from notebook>=4.0.0->lux-widget>=0.1.1->lux-api) (0.2.0)\n",
      "Requirement already satisfied: jupyter-core>=4.4.0 in /Applications/Conda/anaconda3/lib/python3.7/site-packages (from notebook>=4.0.0->lux-widget>=0.1.1->lux-api) (4.5.0)\n",
      "Requirement already satisfied: widgetsnbextension~=3.5.0 in /Applications/Conda/anaconda3/lib/python3.7/site-packages (from ipywidgets>=7.0.0->lux-widget>=0.1.1->lux-api) (3.5.1)\n",
      "Requirement already satisfied: ipython>=4.0.0; python_version >= \"3.3\" in /Applications/Conda/anaconda3/lib/python3.7/site-packages (from ipywidgets>=7.0.0->lux-widget>=0.1.1->lux-api) (7.8.0)\n",
      "Requirement already satisfied: prompt_toolkit<2.1.0,>=2.0.0 in /Applications/Conda/anaconda3/lib/python3.7/site-packages (from jupyter-console->jupyter->lux-widget>=0.1.1->lux-api) (2.0.10)\n",
      "Requirement already satisfied: pygments in /Applications/Conda/anaconda3/lib/python3.7/site-packages (from jupyter-console->jupyter->lux-widget>=0.1.1->lux-api) (2.4.2)\n",
      "Requirement already satisfied: pandocfilters>=1.4.1 in /Applications/Conda/anaconda3/lib/python3.7/site-packages (from nbconvert->jupyter->lux-widget>=0.1.1->lux-api) (1.4.2)\n",
      "Requirement already satisfied: mistune<2,>=0.8.1 in /Applications/Conda/anaconda3/lib/python3.7/site-packages (from nbconvert->jupyter->lux-widget>=0.1.1->lux-api) (0.8.4)\n",
      "Requirement already satisfied: testpath in /Applications/Conda/anaconda3/lib/python3.7/site-packages (from nbconvert->jupyter->lux-widget>=0.1.1->lux-api) (0.4.2)\n",
      "Requirement already satisfied: defusedxml in /Applications/Conda/anaconda3/lib/python3.7/site-packages (from nbconvert->jupyter->lux-widget>=0.1.1->lux-api) (0.6.0)\n",
      "Requirement already satisfied: bleach in /Applications/Conda/anaconda3/lib/python3.7/site-packages (from nbconvert->jupyter->lux-widget>=0.1.1->lux-api) (3.1.0)\n",
      "Requirement already satisfied: decorator in /Applications/Conda/anaconda3/lib/python3.7/site-packages (from traitlets>=4.2.1->notebook>=4.0.0->lux-widget>=0.1.1->lux-api) (4.4.0)\n",
      "Requirement already satisfied: backcall in /Applications/Conda/anaconda3/lib/python3.7/site-packages (from ipython>=4.0.0; python_version >= \"3.3\"->ipywidgets>=7.0.0->lux-widget>=0.1.1->lux-api) (0.1.0)\n",
      "Requirement already satisfied: jedi>=0.10 in /Applications/Conda/anaconda3/lib/python3.7/site-packages (from ipython>=4.0.0; python_version >= \"3.3\"->ipywidgets>=7.0.0->lux-widget>=0.1.1->lux-api) (0.15.1)\n",
      "Requirement already satisfied: appnope; sys_platform == \"darwin\" in /Applications/Conda/anaconda3/lib/python3.7/site-packages (from ipython>=4.0.0; python_version >= \"3.3\"->ipywidgets>=7.0.0->lux-widget>=0.1.1->lux-api) (0.1.0)\n",
      "Requirement already satisfied: pickleshare in /Applications/Conda/anaconda3/lib/python3.7/site-packages (from ipython>=4.0.0; python_version >= \"3.3\"->ipywidgets>=7.0.0->lux-widget>=0.1.1->lux-api) (0.7.5)\n",
      "Requirement already satisfied: pexpect; sys_platform != \"win32\" in /Applications/Conda/anaconda3/lib/python3.7/site-packages (from ipython>=4.0.0; python_version >= \"3.3\"->ipywidgets>=7.0.0->lux-widget>=0.1.1->lux-api) (4.7.0)\n",
      "Requirement already satisfied: wcwidth in /Applications/Conda/anaconda3/lib/python3.7/site-packages (from prompt_toolkit<2.1.0,>=2.0.0->jupyter-console->jupyter->lux-widget>=0.1.1->lux-api) (0.1.7)\n",
      "Requirement already satisfied: webencodings in /Applications/Conda/anaconda3/lib/python3.7/site-packages (from bleach->nbconvert->jupyter->lux-widget>=0.1.1->lux-api) (0.5.1)\n",
      "Requirement already satisfied: parso>=0.5.0 in /Applications/Conda/anaconda3/lib/python3.7/site-packages (from jedi>=0.10->ipython>=4.0.0; python_version >= \"3.3\"->ipywidgets>=7.0.0->lux-widget>=0.1.1->lux-api) (0.5.1)\n",
      "Requirement already satisfied: ptyprocess>=0.5 in /Applications/Conda/anaconda3/lib/python3.7/site-packages (from pexpect; sys_platform != \"win32\"->ipython>=4.0.0; python_version >= \"3.3\"->ipywidgets>=7.0.0->lux-widget>=0.1.1->lux-api) (0.6.0)\n",
      "Building wheels for collected packages: lux-api, lux-widget\n"
     ]
    },
    {
     "name": "stdout",
     "output_type": "stream",
     "text": [
      "  Building wheel for lux-api (setup.py) ... \u001b[?25ldone\n",
      "\u001b[?25h  Created wheel for lux-api: filename=lux_api-0.2.1.1-cp37-none-any.whl size=117740 sha256=c26cb7a7d1971d2f3867ab766c30bbc9a5b3070348997bffc2cdb3d79e39304f\n",
      "  Stored in directory: /Users/sapp/Library/Caches/pip/wheels/a3/7b/d0/2d3ae0c905bf95ce8decbf556e0ab1f6237f6e7c99f32234ec\n",
      "  Building wheel for lux-widget (setup.py) ... \u001b[?25ldone\n",
      "\u001b[?25h  Created wheel for lux-widget: filename=lux_widget-0.1.1-cp37-none-any.whl size=1935816 sha256=403051c01af867dd0bfa3bc5d16873918dc81f1104201cd000c2b7c1621c2d33\n",
      "  Stored in directory: /Users/sapp/Library/Caches/pip/wheels/69/1c/5d/bc38f4976953e3cb58842423d04ed2aa0d6579b6b5857fc444\n",
      "Successfully built lux-api lux-widget\n",
      "Installing collected packages: pandas, altair, threadpoolctl, scikit-learn, lux-widget, lux-api\n",
      "  Found existing installation: pandas 0.25.1\n",
      "    Uninstalling pandas-0.25.1:\n",
      "      Successfully uninstalled pandas-0.25.1\n",
      "  Found existing installation: scikit-learn 0.21.3\n",
      "    Uninstalling scikit-learn-0.21.3:\n",
      "      Successfully uninstalled scikit-learn-0.21.3\n",
      "Successfully installed altair-4.1.0 lux-api-0.2.1.1 lux-widget-0.1.1 pandas-1.1.4 scikit-learn-0.23.2 threadpoolctl-2.1.0\n"
     ]
    }
   ],
   "source": [
    "# !pip install lux-api"
   ]
  },
  {
   "cell_type": "code",
   "execution_count": 22,
   "metadata": {},
   "outputs": [
    {
     "name": "stdout",
     "output_type": "stream",
     "text": [
      "Installing /Applications/Conda/anaconda3/lib/python3.7/site-packages/luxwidget/nbextension/static -> luxwidget\n",
      "Making directory: /usr/local/share/jupyter/nbextensions/luxwidget/\n",
      "Copying: /Applications/Conda/anaconda3/lib/python3.7/site-packages/luxwidget/nbextension/static/index.js -> /usr/local/share/jupyter/nbextensions/luxwidget/index.js\n",
      "Copying: /Applications/Conda/anaconda3/lib/python3.7/site-packages/luxwidget/nbextension/static/index.js.map -> /usr/local/share/jupyter/nbextensions/luxwidget/index.js.map\n",
      "Copying: /Applications/Conda/anaconda3/lib/python3.7/site-packages/luxwidget/nbextension/static/extension.js -> /usr/local/share/jupyter/nbextensions/luxwidget/extension.js\n",
      "- Validating: \u001b[32mOK\u001b[0m\n",
      "\n",
      "    To initialize this nbextension in the browser every time the notebook (or other app) loads:\n",
      "    \n",
      "          jupyter nbextension enable luxwidget --py\n",
      "    \n",
      "Enabling notebook extension luxwidget/extension...\n",
      "      - Validating: \u001b[32mOK\u001b[0m\n"
     ]
    }
   ],
   "source": [
    "!jupyter nbextension install --py luxwidget\n",
    "!jupyter nbextension enable --py luxwidget"
   ]
  },
  {
   "cell_type": "code",
   "execution_count": 11,
   "metadata": {},
   "outputs": [],
   "source": [
    "import pandas as pd\n",
    "import lux"
   ]
  },
  {
   "cell_type": "code",
   "execution_count": 12,
   "metadata": {},
   "outputs": [],
   "source": [
    "# Lets bring a basic weather dataset with a set of predictors and Weather as the target.\n",
    "# Lets try to find the patterns through some exploration while we'll let LUX do all the coding for us.\n",
    "\n",
    "weather_df = pd.read_csv('../data/weather_2012.csv')\n",
    "weather_df['Date/Time'] = pd.to_datetime(weather_df['Date/Time'], format='%Y-%m-%d')"
   ]
  },
  {
   "cell_type": "code",
   "execution_count": 13,
   "metadata": {},
   "outputs": [
    {
     "name": "stdout",
     "output_type": "stream",
     "text": [
      "Date/Time             datetime64[ns]\n",
      "Temp (C)                     float64\n",
      "Dew Point Temp (C)           float64\n",
      "Rel Hum (%)                    int64\n",
      "Wind Spd (km/h)                int64\n",
      "Visibility (km)              float64\n",
      "Stn Press (kPa)              float64\n",
      "Weather                       object\n",
      "dtype: object\n"
     ]
    },
    {
     "name": "stderr",
     "output_type": "stream",
     "text": [
      "/Applications/Conda/anaconda3/lib/python3.7/site-packages/IPython/lib/pretty.py:697: UserWarning:\n",
      "Lux defaults to Pandas when there are no valid actions defined.\n"
     ]
    },
    {
     "data": {
      "text/plain": []
     },
     "execution_count": 13,
     "metadata": {},
     "output_type": "execute_result"
    }
   ],
   "source": [
    "weather_df.dtypes"
   ]
  },
  {
   "cell_type": "code",
   "execution_count": 18,
   "metadata": {},
   "outputs": [
    {
     "data": {
      "application/vnd.jupyter.widget-view+json": {
       "model_id": "fd4c9be5d5b549a9a08813a97fbd43e1",
       "version_major": 2,
       "version_minor": 0
      },
      "text/plain": [
       "Button(description='Toggle Pandas/Lux', layout=Layout(top='5px', width='140px'), style=ButtonStyle())"
      ]
     },
     "metadata": {},
     "output_type": "display_data"
    },
    {
     "data": {
      "application/vnd.jupyter.widget-view+json": {
       "model_id": "5e7f300ec12b4bea9769a64fb9be1b7f",
       "version_major": 2,
       "version_minor": 0
      },
      "text/plain": [
       "Output()"
      ]
     },
     "metadata": {},
     "output_type": "display_data"
    },
    {
     "data": {
      "text/plain": []
     },
     "execution_count": 18,
     "metadata": {},
     "output_type": "execute_result"
    }
   ],
   "source": [
    "# Whole dataframe visualization\n",
    "weather_df"
   ]
  },
  {
   "cell_type": "code",
   "execution_count": 19,
   "metadata": {},
   "outputs": [
    {
     "data": {
      "application/vnd.jupyter.widget-view+json": {
       "model_id": "6dc54eb7770a4ea292814df8d22287a6",
       "version_major": 2,
       "version_minor": 0
      },
      "text/plain": [
       "Button(description='Toggle Pandas/Lux', layout=Layout(top='5px', width='140px'), style=ButtonStyle())"
      ]
     },
     "metadata": {},
     "output_type": "display_data"
    },
    {
     "data": {
      "application/vnd.jupyter.widget-view+json": {
       "model_id": "33c67b3ed37b42259975fea006a41fdc",
       "version_major": 2,
       "version_minor": 0
      },
      "text/plain": [
       "Output()"
      ]
     },
     "metadata": {},
     "output_type": "display_data"
    },
    {
     "data": {
      "text/plain": []
     },
     "execution_count": 19,
     "metadata": {},
     "output_type": "execute_result"
    }
   ],
   "source": [
    "# Visualizing with Recommendations (Defining starting intends)\n",
    "# selecting one of the predictor and the target variable \n",
    "\n",
    "weather_df.intent = [\"Temp (C)\", \"Weather\"]\n",
    "weather_df\n",
    "\n",
    "# While the categorical presencs of target variable is visualized against the user intended predictor (Mean temp), \n",
    "# the rest are recommended\n",
    "# enhancement (using Date/time predictor) / filters (using 'Visibility' predictor different values)"
   ]
  },
  {
   "cell_type": "code",
   "execution_count": 20,
   "metadata": {},
   "outputs": [
    {
     "data": {
      "application/vnd.jupyter.widget-view+json": {
       "model_id": "fe07fb5838ff4a34b84e6cab87582b24",
       "version_major": 2,
       "version_minor": 0
      },
      "text/plain": [
       "Button(description='Toggle Pandas/Lux', layout=Layout(top='5px', width='140px'), style=ButtonStyle())"
      ]
     },
     "metadata": {},
     "output_type": "display_data"
    },
    {
     "data": {
      "application/vnd.jupyter.widget-view+json": {
       "model_id": "cacb4301b01848ea8fe56752345021d3",
       "version_major": 2,
       "version_minor": 0
      },
      "text/plain": [
       "Output()"
      ]
     },
     "metadata": {},
     "output_type": "display_data"
    },
    {
     "data": {
      "text/plain": []
     },
     "execution_count": 20,
     "metadata": {},
     "output_type": "execute_result"
    }
   ],
   "source": [
    "# Assessing the visualization reconstruction while passing single predictor (Relative humidity)\n",
    "\n",
    "weather_df.intent = [\"Rel Hum (%)\"]\n",
    "weather_df\n",
    "\n"
   ]
  },
  {
   "cell_type": "code",
   "execution_count": 17,
   "metadata": {},
   "outputs": [
    {
     "data": {
      "application/vnd.jupyter.widget-view+json": {
       "model_id": "bee7685da89b4ded904d6e21ff9b589b",
       "version_major": 2,
       "version_minor": 0
      },
      "text/plain": [
       "Button(description='Toggle Pandas/Lux', layout=Layout(top='5px', width='140px'), style=ButtonStyle())"
      ]
     },
     "metadata": {},
     "output_type": "display_data"
    },
    {
     "data": {
      "application/vnd.jupyter.widget-view+json": {
       "model_id": "36986a6b9dca4ea5b75e7a320770dadc",
       "version_major": 2,
       "version_minor": 0
      },
      "text/plain": [
       "Output()"
      ]
     },
     "metadata": {},
     "output_type": "display_data"
    },
    {
     "data": {
      "text/plain": []
     },
     "execution_count": 17,
     "metadata": {},
     "output_type": "execute_result"
    }
   ],
   "source": [
    "# Relating to the Target variable Category 'Rain'\n",
    "weather_df.intent = ['Temp (C)',\n",
    "            lux.Clause(attribute='Weather',filter_op='=', value=['Rain'])]\n",
    "weather_df\n",
    "# Predicts positive corelation (Pearson's ) with the Enhancement on 'Dew Point temp' & 'Temp'"
   ]
  },
  {
   "cell_type": "code",
   "execution_count": null,
   "metadata": {},
   "outputs": [],
   "source": []
  },
  {
   "cell_type": "code",
   "execution_count": null,
   "metadata": {},
   "outputs": [],
   "source": []
  },
  {
   "cell_type": "code",
   "execution_count": null,
   "metadata": {},
   "outputs": [],
   "source": []
  }
 ],
 "metadata": {
  "kernelspec": {
   "display_name": "Python 3",
   "language": "python",
   "name": "python3"
  },
  "language_info": {
   "codemirror_mode": {
    "name": "ipython",
    "version": 3
   },
   "file_extension": ".py",
   "mimetype": "text/x-python",
   "name": "python",
   "nbconvert_exporter": "python",
   "pygments_lexer": "ipython3",
   "version": "3.7.4"
  }
 },
 "nbformat": 4,
 "nbformat_minor": 2
}
